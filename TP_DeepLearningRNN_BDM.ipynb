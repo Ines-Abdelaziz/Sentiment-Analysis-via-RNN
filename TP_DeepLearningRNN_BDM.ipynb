{
  "cells": [
    {
      "cell_type": "markdown",
      "metadata": {
        "id": "view-in-github",
        "colab_type": "text"
      },
      "source": [
        "<a href=\"https://colab.research.google.com/github/Ines-Abdelaziz/Sentiment-Analysis-via-RNN/blob/main/TP_DeepLearningRNN_BDM.ipynb\" target=\"_parent\"><img src=\"https://colab.research.google.com/assets/colab-badge.svg\" alt=\"Open In Colab\"/></a>"
      ]
    },
    {
      "cell_type": "code",
      "execution_count": null,
      "metadata": {
        "id": "IN8RQ8fUGjro"
      },
      "outputs": [],
      "source": [
        "#Importing libraries\n",
        "import numpy as np\n",
        "import pandas as pd\n",
        "import tensorflow as tf\n",
        "from tensorflow.keras.preprocessing.text import Tokenizer\n",
        "from tensorflow.keras.preprocessing.sequence import pad_sequences\n",
        "from tensorflow.keras.layers import Embedding, LSTM, Dense,Bidirectional\n",
        "from tensorflow.keras.models import Sequential"
      ]
    },
    {
      "cell_type": "code",
      "execution_count": null,
      "metadata": {
        "colab": {
          "base_uri": "https://localhost:8080/",
          "height": 424
        },
        "id": "feFU9DMAglTY",
        "outputId": "0bbe0c24-b1f7-4213-cdbe-32b942a91e3d"
      },
      "outputs": [
        {
          "data": {
            "text/html": [
              "\n",
              "  <div id=\"df-ce125f76-1a9b-4264-b00b-cf41dba8593c\">\n",
              "    <div class=\"colab-df-container\">\n",
              "      <div>\n",
              "<style scoped>\n",
              "    .dataframe tbody tr th:only-of-type {\n",
              "        vertical-align: middle;\n",
              "    }\n",
              "\n",
              "    .dataframe tbody tr th {\n",
              "        vertical-align: top;\n",
              "    }\n",
              "\n",
              "    .dataframe thead th {\n",
              "        text-align: right;\n",
              "    }\n",
              "</style>\n",
              "<table border=\"1\" class=\"dataframe\">\n",
              "  <thead>\n",
              "    <tr style=\"text-align: right;\">\n",
              "      <th></th>\n",
              "      <th>label</th>\n",
              "      <th>text</th>\n",
              "    </tr>\n",
              "  </thead>\n",
              "  <tbody>\n",
              "    <tr>\n",
              "      <th>0</th>\n",
              "      <td>0</td>\n",
              "      <td>@switchfoot http://twitpic.com/2y1zl - Awww, t...</td>\n",
              "    </tr>\n",
              "    <tr>\n",
              "      <th>1</th>\n",
              "      <td>0</td>\n",
              "      <td>is upset that he can't update his Facebook by ...</td>\n",
              "    </tr>\n",
              "    <tr>\n",
              "      <th>2</th>\n",
              "      <td>0</td>\n",
              "      <td>@Kenichan I dived many times for the ball. Man...</td>\n",
              "    </tr>\n",
              "    <tr>\n",
              "      <th>3</th>\n",
              "      <td>0</td>\n",
              "      <td>my whole body feels itchy and like its on fire</td>\n",
              "    </tr>\n",
              "    <tr>\n",
              "      <th>4</th>\n",
              "      <td>0</td>\n",
              "      <td>@nationwideclass no, it's not behaving at all....</td>\n",
              "    </tr>\n",
              "    <tr>\n",
              "      <th>...</th>\n",
              "      <td>...</td>\n",
              "      <td>...</td>\n",
              "    </tr>\n",
              "    <tr>\n",
              "      <th>1599995</th>\n",
              "      <td>4</td>\n",
              "      <td>Just woke up. Having no school is the best fee...</td>\n",
              "    </tr>\n",
              "    <tr>\n",
              "      <th>1599996</th>\n",
              "      <td>4</td>\n",
              "      <td>TheWDB.com - Very cool to hear old Walt interv...</td>\n",
              "    </tr>\n",
              "    <tr>\n",
              "      <th>1599997</th>\n",
              "      <td>4</td>\n",
              "      <td>Are you ready for your MoJo Makeover? Ask me f...</td>\n",
              "    </tr>\n",
              "    <tr>\n",
              "      <th>1599998</th>\n",
              "      <td>4</td>\n",
              "      <td>Happy 38th Birthday to my boo of alll time!!! ...</td>\n",
              "    </tr>\n",
              "    <tr>\n",
              "      <th>1599999</th>\n",
              "      <td>4</td>\n",
              "      <td>happy #charitytuesday @theNSPCC @SparksCharity...</td>\n",
              "    </tr>\n",
              "  </tbody>\n",
              "</table>\n",
              "<p>1600000 rows × 2 columns</p>\n",
              "</div>\n",
              "      <button class=\"colab-df-convert\" onclick=\"convertToInteractive('df-ce125f76-1a9b-4264-b00b-cf41dba8593c')\"\n",
              "              title=\"Convert this dataframe to an interactive table.\"\n",
              "              style=\"display:none;\">\n",
              "        \n",
              "  <svg xmlns=\"http://www.w3.org/2000/svg\" height=\"24px\"viewBox=\"0 0 24 24\"\n",
              "       width=\"24px\">\n",
              "    <path d=\"M0 0h24v24H0V0z\" fill=\"none\"/>\n",
              "    <path d=\"M18.56 5.44l.94 2.06.94-2.06 2.06-.94-2.06-.94-.94-2.06-.94 2.06-2.06.94zm-11 1L8.5 8.5l.94-2.06 2.06-.94-2.06-.94L8.5 2.5l-.94 2.06-2.06.94zm10 10l.94 2.06.94-2.06 2.06-.94-2.06-.94-.94-2.06-.94 2.06-2.06.94z\"/><path d=\"M17.41 7.96l-1.37-1.37c-.4-.4-.92-.59-1.43-.59-.52 0-1.04.2-1.43.59L10.3 9.45l-7.72 7.72c-.78.78-.78 2.05 0 2.83L4 21.41c.39.39.9.59 1.41.59.51 0 1.02-.2 1.41-.59l7.78-7.78 2.81-2.81c.8-.78.8-2.07 0-2.86zM5.41 20L4 18.59l7.72-7.72 1.47 1.35L5.41 20z\"/>\n",
              "  </svg>\n",
              "      </button>\n",
              "      \n",
              "  <style>\n",
              "    .colab-df-container {\n",
              "      display:flex;\n",
              "      flex-wrap:wrap;\n",
              "      gap: 12px;\n",
              "    }\n",
              "\n",
              "    .colab-df-convert {\n",
              "      background-color: #E8F0FE;\n",
              "      border: none;\n",
              "      border-radius: 50%;\n",
              "      cursor: pointer;\n",
              "      display: none;\n",
              "      fill: #1967D2;\n",
              "      height: 32px;\n",
              "      padding: 0 0 0 0;\n",
              "      width: 32px;\n",
              "    }\n",
              "\n",
              "    .colab-df-convert:hover {\n",
              "      background-color: #E2EBFA;\n",
              "      box-shadow: 0px 1px 2px rgba(60, 64, 67, 0.3), 0px 1px 3px 1px rgba(60, 64, 67, 0.15);\n",
              "      fill: #174EA6;\n",
              "    }\n",
              "\n",
              "    [theme=dark] .colab-df-convert {\n",
              "      background-color: #3B4455;\n",
              "      fill: #D2E3FC;\n",
              "    }\n",
              "\n",
              "    [theme=dark] .colab-df-convert:hover {\n",
              "      background-color: #434B5C;\n",
              "      box-shadow: 0px 1px 3px 1px rgba(0, 0, 0, 0.15);\n",
              "      filter: drop-shadow(0px 1px 2px rgba(0, 0, 0, 0.3));\n",
              "      fill: #FFFFFF;\n",
              "    }\n",
              "  </style>\n",
              "\n",
              "      <script>\n",
              "        const buttonEl =\n",
              "          document.querySelector('#df-ce125f76-1a9b-4264-b00b-cf41dba8593c button.colab-df-convert');\n",
              "        buttonEl.style.display =\n",
              "          google.colab.kernel.accessAllowed ? 'block' : 'none';\n",
              "\n",
              "        async function convertToInteractive(key) {\n",
              "          const element = document.querySelector('#df-ce125f76-1a9b-4264-b00b-cf41dba8593c');\n",
              "          const dataTable =\n",
              "            await google.colab.kernel.invokeFunction('convertToInteractive',\n",
              "                                                     [key], {});\n",
              "          if (!dataTable) return;\n",
              "\n",
              "          const docLinkHtml = 'Like what you see? Visit the ' +\n",
              "            '<a target=\"_blank\" href=https://colab.research.google.com/notebooks/data_table.ipynb>data table notebook</a>'\n",
              "            + ' to learn more about interactive tables.';\n",
              "          element.innerHTML = '';\n",
              "          dataTable['output_type'] = 'display_data';\n",
              "          await google.colab.output.renderOutput(dataTable, element);\n",
              "          const docLink = document.createElement('div');\n",
              "          docLink.innerHTML = docLinkHtml;\n",
              "          element.appendChild(docLink);\n",
              "        }\n",
              "      </script>\n",
              "    </div>\n",
              "  </div>\n",
              "  "
            ],
            "text/plain": [
              "         label                                               text\n",
              "0            0  @switchfoot http://twitpic.com/2y1zl - Awww, t...\n",
              "1            0  is upset that he can't update his Facebook by ...\n",
              "2            0  @Kenichan I dived many times for the ball. Man...\n",
              "3            0    my whole body feels itchy and like its on fire \n",
              "4            0  @nationwideclass no, it's not behaving at all....\n",
              "...        ...                                                ...\n",
              "1599995      4  Just woke up. Having no school is the best fee...\n",
              "1599996      4  TheWDB.com - Very cool to hear old Walt interv...\n",
              "1599997      4  Are you ready for your MoJo Makeover? Ask me f...\n",
              "1599998      4  Happy 38th Birthday to my boo of alll time!!! ...\n",
              "1599999      4  happy #charitytuesday @theNSPCC @SparksCharity...\n",
              "\n",
              "[1600000 rows x 2 columns]"
            ]
          },
          "execution_count": 26,
          "metadata": {},
          "output_type": "execute_result"
        }
      ],
      "source": [
        "#Loading and preprocessing the data\n",
        "df = pd.read_csv('extracted_data/sentiment140.csv', encoding='ISO-8859-1', header=None)\n",
        "df = df.iloc[:, [0, 5]]\n",
        "df.columns = ['label', 'text']\n",
        "df"
      ]
    },
    {
      "cell_type": "markdown",
      "metadata": {
        "id": "LtPDaWYBHyBH"
      },
      "source": [
        "- We only use the first(sentiment) and sixth(text) column of the dataset.\n",
        "- we rename them as label and text\n"
      ]
    },
    {
      "cell_type": "code",
      "execution_count": null,
      "metadata": {
        "colab": {
          "base_uri": "https://localhost:8080/"
        },
        "id": "73C0yJ3yqAe6",
        "outputId": "7f3ce32a-44f6-4882-8354-d99c44b39df5"
      },
      "outputs": [
        {
          "name": "stderr",
          "output_type": "stream",
          "text": [
            "<ipython-input-28-087f5e3bc282>:2: FutureWarning: The default value of regex will change from True to False in a future version.\n",
            "  df['text'] = df['text'].str.replace('[^\\w\\s]', '')\n",
            "<ipython-input-28-087f5e3bc282>:3: FutureWarning: The default value of regex will change from True to False in a future version.\n",
            "  df['text'] = df['text'].str.replace('\\d+', '')\n"
          ]
        }
      ],
      "source": [
        "\n",
        "df['text'] = df['text'].apply(lambda x: x.lower())\n",
        "df['text'] = df['text'].str.replace('[^\\w\\s]', '')\n",
        "df['text'] = df['text'].str.replace('\\d+', '')\n",
        "df['text'] = df['text'].str.strip()"
      ]
    },
    {
      "cell_type": "markdown",
      "metadata": {
        "id": "dTt0AQAOq7ee"
      },
      "source": [
        "- we  convert all the tweet texts to lowercase\n",
        "- we remove all non-alphanumeric characters and numbers\n",
        "- we remove any leading and trailing white spaces"
      ]
    },
    {
      "cell_type": "code",
      "execution_count": null,
      "metadata": {
        "id": "DQTXBBZ-1cZT"
      },
      "outputs": [],
      "source": [
        "#labeling the data\n",
        "df['label'] = df['label'].replace({0: 'negative', 4: 'positive'})\n",
        "#Splitting the data\n",
        "train_size = int(len(df) * 0.8)\n",
        "train_data = df[:train_size]\n",
        "val_data = df[train_size:]\n",
        "# Tokenization\n",
        "tokenizer = Tokenizer(num_words=10000, oov_token='<OOV>')\n",
        "tokenizer.fit_on_texts(train_data['text'])\n",
        "\n",
        "# Padding\n",
        "train_sequences = tokenizer.texts_to_sequences(train_data['text'])\n",
        "train_padded = pad_sequences(train_sequences, maxlen=50, padding='post', truncating='post')\n",
        "val_sequences = tokenizer.texts_to_sequences(val_data['text'])\n",
        "val_padded = pad_sequences(val_sequences, maxlen=50, padding='post', truncating='post')"
      ]
    },
    {
      "cell_type": "markdown",
      "metadata": {
        "id": "eFdHT_qPq_g0"
      },
      "source": [
        "- we replace numeric values of the label\n",
        "- we split the data 80% to train and 20% for testing\n",
        "- We tokenize and padd the data\n"
      ]
    },
    {
      "cell_type": "code",
      "execution_count": null,
      "metadata": {
        "colab": {
          "base_uri": "https://localhost:8080/"
        },
        "id": "1h6oJaCs72BG",
        "outputId": "bdb1f568-a2e4-4b37-e14b-09e4f0358fd8"
      },
      "outputs": [
        {
          "name": "stdout",
          "output_type": "stream",
          "text": [
            "Model: \"sequential_1\"\n",
            "_________________________________________________________________\n",
            " Layer (type)                Output Shape              Param #   \n",
            "=================================================================\n",
            " embedding_1 (Embedding)     (None, 50, 32)            320000    \n",
            "                                                                 \n",
            " lstm_1 (LSTM)               (None, 64)                24832     \n",
            "                                                                 \n",
            " dense_1 (Dense)             (None, 2)                 130       \n",
            "                                                                 \n",
            "=================================================================\n",
            "Total params: 344,962\n",
            "Trainable params: 344,962\n",
            "Non-trainable params: 0\n",
            "_________________________________________________________________\n"
          ]
        }
      ],
      "source": [
        "#model architecture\n",
        "model = Sequential([\n",
        "    Embedding(input_dim=10000, output_dim=32, input_length=50),\n",
        "    LSTM(64, dropout=0.2, recurrent_dropout=0.2),\n",
        "    Dense(2, activation='softmax')\n",
        "])\n",
        "\n",
        "#Compiling the model\n",
        "model.compile(loss='categorical_crossentropy', optimizer='adam', metrics=['accuracy'])\n",
        "#Summary\n",
        "model.summary()"
      ]
    },
    {
      "cell_type": "code",
      "execution_count": null,
      "metadata": {
        "id": "stMz2ArJguC2"
      },
      "outputs": [],
      "source": []
    },
    {
      "cell_type": "code",
      "execution_count": null,
      "metadata": {
        "colab": {
          "base_uri": "https://localhost:8080/"
        },
        "id": "FA9c75gQ9qC2",
        "outputId": "0af3a2d5-f838-4a5e-ad19-d7377221176a"
      },
      "outputs": [
        {
          "name": "stdout",
          "output_type": "stream",
          "text": [
            "Epoch 1/10\n",
            "10000/10000 [==============================] - 740s 74ms/step - loss: 0.4214 - accuracy: 0.8068 - val_loss: 0.5789 - val_accuracy: 0.7277\n",
            "Epoch 2/10\n",
            "10000/10000 [==============================] - 733s 73ms/step - loss: 0.3849 - accuracy: 0.8260 - val_loss: 0.6659 - val_accuracy: 0.6517\n",
            "Epoch 3/10\n",
            "10000/10000 [==============================] - 742s 74ms/step - loss: 0.3728 - accuracy: 0.8322 - val_loss: 0.5718 - val_accuracy: 0.7334\n",
            "Epoch 4/10\n",
            "10000/10000 [==============================] - 735s 73ms/step - loss: 0.3636 - accuracy: 0.8372 - val_loss: 0.5663 - val_accuracy: 0.7389\n",
            "Epoch 5/10\n",
            "10000/10000 [==============================] - 733s 73ms/step - loss: 0.3565 - accuracy: 0.8412 - val_loss: 0.5801 - val_accuracy: 0.7238\n",
            "Epoch 6/10\n",
            "10000/10000 [==============================] - 747s 75ms/step - loss: 0.3510 - accuracy: 0.8439 - val_loss: 0.5802 - val_accuracy: 0.7236\n",
            "Epoch 7/10\n",
            "10000/10000 [==============================] - 738s 74ms/step - loss: 0.3460 - accuracy: 0.8469 - val_loss: 0.6440 - val_accuracy: 0.7045\n",
            "Epoch 8/10\n",
            "10000/10000 [==============================] - 752s 75ms/step - loss: 0.3419 - accuracy: 0.8489 - val_loss: 0.6373 - val_accuracy: 0.6998\n",
            "Epoch 9/10\n",
            "10000/10000 [==============================] - 752s 75ms/step - loss: 0.3382 - accuracy: 0.8508 - val_loss: 0.5581 - val_accuracy: 0.7418\n",
            "Epoch 10/10\n",
            "10000/10000 [==============================] - 757s 76ms/step - loss: 0.3347 - accuracy: 0.8526 - val_loss: 0.5835 - val_accuracy: 0.7356\n",
            "10000/10000 [==============================] - 78s 8ms/step - loss: 0.5835 - accuracy: 0.7356\n",
            "Validation loss: 0.58350670337677\n",
            "Validation accuracy: 0.7355999946594238\n"
          ]
        }
      ],
      "source": [
        "#Training the model\n",
        "history = model.fit(train_padded, tf.keras.utils.to_categorical(train_data['label'].map({'negative': 0, 'positive': 1})),\n",
        "                    validation_data=(val_padded, tf.keras.utils.to_categorical(val_data['label'].map({'negative': 0, 'positive': 1}))),\n",
        "                    epochs=10, batch_size=128)\n",
        "\n",
        "# Evaluating the model\n",
        "val_loss, val_acc = model.evaluate(val_padded, tf.keras.utils.to_categorical(val_data['label'].map({'negative': 0, 'positive': 1})))\n",
        "print('Validation loss:', val_loss)\n",
        "print('Validation accuracy:', val_acc)"
      ]
    }
  ],
  "metadata": {
    "colab": {
      "provenance": [],
      "authorship_tag": "ABX9TyPAGqobFgurQNnWrGvGyh9Q",
      "include_colab_link": true
    },
    "kernelspec": {
      "display_name": "Python 3",
      "name": "python3"
    },
    "language_info": {
      "name": "python"
    }
  },
  "nbformat": 4,
  "nbformat_minor": 0
}